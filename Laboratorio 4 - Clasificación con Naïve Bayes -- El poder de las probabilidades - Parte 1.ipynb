{
 "cells": [
  {
   "cell_type": "markdown",
   "metadata": {},
   "source": [
    "# Prediciendo los efectos del clima en el futból. \n",
    "\n",
    "Dadas las condiciones climáticas, queremos predecir cuando un partido de futbol entre dos rivales emblemáticos se dará. \n",
    "\n",
    "Para ello contamos con datos historicos de algunos de los partidos que han jugado previamente. Entre los atributos de los partidos tenemos la temperatura y clima en cada uno de los partidos y la variable objetivo que pretendemos predecir, tenemos si se jugó o no dicho partido. "
   ]
  },
  {
   "cell_type": "code",
   "execution_count": 4,
   "metadata": {},
   "outputs": [],
   "source": [
    "# En este caso, partimos con un data set dividido en tres listas. \n",
    "\n",
    "# La información del clima viene representada (En el espacio de simbolos) \n",
    "# por tres estados: Soleado, Lluvioso y Nublado.\n",
    "clima=['Soleado','Soleado','Nublado','Lluvioso','Lluvioso','Lluvioso','Nublado','Soleado','Soleado',\n",
    "'Lluvioso','Soleado','Nublado','Nublado','Lluvioso']\n",
    "\n",
    "# De manera similar, la temperatura es descrita por los estados Caluroso, Frío\n",
    "# y Moderado. \n",
    "temperatura=['Caluroso','Caluroso','Caluroso','Moderado','Frío','Frío','Frío','Moderado','Frío','Moderado','Moderado','Moderado','Caluroso','Moderado']\n",
    "\n",
    "# Finalmente, tenemos registro de si el partido se jugó o no se jugó.\n",
    "juego=['No','No','Si','Si','Si','No','Si','No','Si','Si','Si','Si','Si','No']"
   ]
  },
  {
   "cell_type": "markdown",
   "metadata": {},
   "source": [
    "Lo primero que haremos será traducir esta información de manera que los algoritmos puedan entenderla. Para tal fin haremos primero un pre-procesamiento."
   ]
  },
  {
   "cell_type": "code",
   "execution_count": 6,
   "metadata": {},
   "outputs": [
    {
     "name": "stdout",
     "output_type": "stream",
     "text": [
      "[2 2 1 0 0 0 1 2 2 0 2 1 1 0]\n"
     ]
    }
   ],
   "source": [
    "# Importamos la librería que nos permitirá codificar las etiquetas.\n",
    "from sklearn import preprocessing\n",
    "\n",
    "# Creamos un codificador de etiquetas\n",
    "le = preprocessing.LabelEncoder()\n",
    "\n",
    "# Y finalmente, convertimos las etiquetas tipo cadenas en números.\n",
    "clima_codificado=le.fit_transform(clima)\n",
    "\n",
    "# Finalmente vemos el vector clima ya codificado haciendo:\n",
    "print(clima_codificado)"
   ]
  },
  {
   "cell_type": "code",
   "execution_count": 8,
   "metadata": {},
   "outputs": [
    {
     "name": "stdout",
     "output_type": "stream",
     "text": [
      "Temp: [0 0 0 2 1 1 1 2 1 2 2 2 0 2]\n",
      "Juego: [0 0 1 1 1 0 1 0 1 1 1 1 1 0]\n"
     ]
    }
   ],
   "source": [
    "# Convertimos el resto de los datos tipo cadena en números. \n",
    "\n",
    "temp_codificada=le.fit_transform(temperatura)\n",
    "variable_objetivo=le.fit_transform(juego)\n",
    "print(\"Temp:\",temp_codificada)\n",
    "print(\"Juego:\",variable_objetivo)"
   ]
  },
  {
   "cell_type": "markdown",
   "metadata": {},
   "source": [
    "Observar que 0=No y 1=Si"
   ]
  },
  {
   "cell_type": "code",
   "execution_count": 9,
   "metadata": {},
   "outputs": [
    {
     "name": "stdout",
     "output_type": "stream",
     "text": [
      "[(2, 0), (2, 0), (1, 0), (0, 2), (0, 1), (0, 1), (1, 1), (2, 2), (2, 1), (0, 2), (2, 2), (1, 2), (1, 0), (0, 2)]\n"
     ]
    }
   ],
   "source": [
    "# Creamos ahora nuestro conjunto de atributos en un solo conjunto\n",
    "# en donde cada dato vendrá como una tupla (clima, temperatura)\n",
    "\n",
    "atributos=list(zip(clima_codificado,temp_codificada))\n",
    "print(atributos)"
   ]
  },
  {
   "cell_type": "code",
   "execution_count": 10,
   "metadata": {},
   "outputs": [
    {
     "name": "stdout",
     "output_type": "stream",
     "text": [
      "Valor Predicho: [1]\n"
     ]
    }
   ],
   "source": [
    "# Iniciamos importando el modelo de Naïve Bayes Gaussiano.\n",
    "from sklearn.naive_bayes import GaussianNB\n",
    "\n",
    "# Creamos entonces un clasificador Gaussiano. \n",
    "modelo = GaussianNB()\n",
    "\n",
    "# Procedemos a entrenar nuestro modelo usando el método fit. \n",
    "modelo.fit(atributos,variable_objetivo)\n",
    "\n",
    "# Y finalmente podemos poderlo a prueba:\n",
    "prediccion=modelo.predict([[0,2]]) # 0:Nublado, 2:Moderado\n",
    "print(\"Valor Predicho:\", prediccion)"
   ]
  },
  {
   "cell_type": "code",
   "execution_count": null,
   "metadata": {},
   "outputs": [],
   "source": []
  }
 ],
 "metadata": {
  "kernelspec": {
   "display_name": "Python 3",
   "language": "python",
   "name": "python3"
  },
  "language_info": {
   "codemirror_mode": {
    "name": "ipython",
    "version": 3
   },
   "file_extension": ".py",
   "mimetype": "text/x-python",
   "name": "python",
   "nbconvert_exporter": "python",
   "pygments_lexer": "ipython3",
   "version": "3.7.4"
  }
 },
 "nbformat": 4,
 "nbformat_minor": 2
}
